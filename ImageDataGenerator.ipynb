{
 "cells": [
  {
   "cell_type": "markdown",
   "metadata": {},
   "source": [
    "@Développeuse pour ceux qui voudraient tenter le ImageDataGenerator et pas se taper la création des dossiers à la main"
   ]
  },
  {
   "cell_type": "code",
   "execution_count": null,
   "metadata": {},
   "outputs": [],
   "source": [
    "import os\n",
    "import shutil\n",
    "\n",
    "if not os.path.exists('data2'): # si ça n'a pas déjà été fait\n",
    "    # Création des dossiers avec l'arborescence souhaitée\n",
    "    os.mkdir('data2')\n",
    "\n",
    "    os.mkdir('data2/training_set')\n",
    "    os.mkdir('data2/training_set/class1')\n",
    "    os.mkdir('data2/training_set/class2')\n",
    "\n",
    "    os.mkdir('data2/test_set')\n",
    "    os.mkdir('data2/test_set/class1')\n",
    "    os.mkdir('data2/test_set/class2')\n",
    "\n",
    "    # copie des images du test set   \n",
    "    df_test.GalaxyID[(df['Class1.1'] > df['Class1.2'])].apply(lambda x: shutil.copy(f'data/images_training_rev1/{x}.jpg',\n",
    "                                                                                    f'data2/test_set/class1/{x}.jpg'))\n",
    "    df_test.GalaxyID[(df['Class1.2'] > df['Class1.1'])].apply(lambda x: shutil.copy(f'data/images_training_rev1/{x}.jpg',\n",
    "                                                                                    f'data2/test_set/class2/{x}.jpg'))\n",
    "\n",
    "    # copie des images du training set\n",
    "    df_train.GalaxyID[(df['Class1.1'] > df['Class1.2'])].apply(lambda x: shutil.copy(f'data/images_training_rev1/{x}.jpg',\n",
    "                                                                                     f'data2/training_set/class1/{x}.jpg'))\n",
    "    df_train.GalaxyID[(df['Class1.2'] > df['Class1.1'])].apply(lambda x: shutil.copy(f'data/images_training_rev1/{x}.jpg',\n",
    "                                                                                     f'data2/training_set/class2/{x}.jpg'))"
   ]
  }
 ],
 "metadata": {
  "kernelspec": {
   "display_name": "Python 3",
   "language": "python",
   "name": "python3"
  },
  "language_info": {
   "codemirror_mode": {
    "name": "ipython",
    "version": 3
   },
   "file_extension": ".py",
   "mimetype": "text/x-python",
   "name": "python",
   "nbconvert_exporter": "python",
   "pygments_lexer": "ipython3",
   "version": "3.6.12"
  }
 },
 "nbformat": 4,
 "nbformat_minor": 4
}
